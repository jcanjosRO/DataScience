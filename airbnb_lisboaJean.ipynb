{
  "nbformat": 4,
  "nbformat_minor": 0,
  "metadata": {
    "colab": {
      "name": "airbnb_lisboaJean.ipynb",
      "provenance": [],
      "collapsed_sections": [],
      "include_colab_link": true
    },
    "kernelspec": {
      "name": "python3",
      "display_name": "Python 3"
    },
    "language_info": {
      "name": "python"
    }
  },
  "cells": [
    {
      "cell_type": "markdown",
      "metadata": {
        "id": "view-in-github",
        "colab_type": "text"
      },
      "source": [
        "<a href=\"https://colab.research.google.com/github/jcanjosRO/DataScience/blob/main/airbnb_lisboaJean.ipynb\" target=\"_parent\"><img src=\"https://colab.research.google.com/assets/colab-badge.svg\" alt=\"Open In Colab\"/></a>"
      ]
    },
    {
      "cell_type": "markdown",
      "metadata": {
        "id": "VRLtaCPYxVBx"
      },
      "source": [
        "\n",
        "#### **Data Science na Prática 3.0**\n",
        "*by [Jean Carlos]*\n",
        "\n",
        "---\n",
        "\n",
        "# Análise dos Dados do Airbnb - *Lisboa*\n",
        "\n",
        "O [Airbnb](https://www.airbnb.com.br/) já é considerado como sendo a **maior empresa hoteleira da atualidade**. Ah, o detalhe é que ele **não possui nenhum hotel**!\n",
        "\n",
        "Conectando pessoas que querem viajar (e se hospedar) com anfitriões que querem alugar seus imóveis de maneira prática, o Airbnb fornece uma plataforma inovadora para tornar essa hospedagem alternativa.\n",
        "\n",
        "No final de 2018, a Startup fundada 10 anos atrás, já havia **hospedado mais de 300 milhões** de pessoas ao redor de todo o mundo, desafiando as redes hoteleiras tradicionais.\n",
        "\n",
        "Uma das iniciativas do Airbnb é disponibilizar dados do site, para algumas das principais cidades do mundo. Por meio do portal [Inside Airbnb](http://insideairbnb.com/get-the-data.html), é possível baixar uma grande quantidade de dados para desenvolver projetos e soluções de *Data Science*.\n",
        "\n",
        "<center><img alt=\"Analisando Airbnb\" width=\"10%\" src=\"https://www.area360.com.au/wp-content/uploads/2017/09/airbnb-logo.jpg\"></center>\n",
        "\n",
        "**Neste *notebook*, iremos analisar os dados referentes à cidade de Lisboa, e ver quais insights podem ser extraídos a partir de dados brutos.**"
      ]
    },
    {
      "cell_type": "markdown",
      "metadata": {
        "id": "ilzjqfP6xXDz"
      },
      "source": [
        "##Obtenção dos Dados##\n",
        "\n",
        "Todos os dados usados aqui foram obtidos a partir do site [Inside Airbnb](http://insideairbnb.com/get-the-data.html).\n",
        "\n",
        "Para esta análise exploratória inicial, iremos uitilizar os dados relativos à cidade de Lisboa em Portugal que foi obtido por meio do seguinte [arquivo](http://data.insideairbnb.com/portugal/lisbon/lisbon/2021-07-10/visualisations/listings.csv):\n",
        "\n",
        "listings.csv - Summary information and metrics for listings in Lisbon (good for visualisations).\n",
        "\n",
        "Importante: O portal está em constante evolução, e em determinado momento, pode ser que o conjunto de dados exato utilizado nesse notebook não esteja mais disponível."
      ]
    },
    {
      "cell_type": "code",
      "metadata": {
        "id": "drSc9fbjzLYB"
      },
      "source": [
        "# importar os pacotes necessarios\n",
        "import pandas as pd\n",
        "import matplotlib.pyplot as plt\n",
        "import seaborn as sns\n",
        "\n",
        "%matplotlib inline\n"
      ],
      "execution_count": 1,
      "outputs": []
    },
    {
      "cell_type": "code",
      "metadata": {
        "id": "dxsm0ujWzS7p"
      },
      "source": [
        "# importar o arquivo listings.csv para um DataFrame\n",
        "df = pd.read_csv(\"/content/listings_lisboa.csv\")"
      ],
      "execution_count": 2,
      "outputs": []
    },
    {
      "cell_type": "markdown",
      "metadata": {
        "id": "Wp0T0mLM0jIx"
      },
      "source": [
        "Análise dos Dados\n",
        "Esta etapa tem por objetivo criar uma consciência situacional inicial e permitir um entendimento de como os dados estão estruturados.\n",
        "\n",
        "Dicionário das variáveis:\n",
        "\n",
        "\n",
        "\n",
        "* id - número de id gerado para identificar o imóvel\n",
        "* name - nome da propriedade anunciada\n",
        "* host_id - número de id do proprietário (anfitrião) da propriedade\n",
        "* host_name - Nome do anfitrião\n",
        "* neighbourhood_group - esta coluna não contém nenhum valor válido\n",
        "* neighbourhood - nome do bairro\n",
        "* latitude - coordenada da latitude da propriedade\n",
        "* longitude - coordenada da longitude da propriedade\n",
        "* room_type - informa o tipo de quarto que é oferecido\n",
        "* price - preço para alugar o imóvel\n",
        "* minimum_nights - quantidade mínima de noites para reservar\n",
        "* number_of_reviews - número de reviews que a propriedade possui\n",
        "* last_review - data do último review\n",
        "* reviews_per_month - quantidade de reviews por mês\n",
        "* calculated_host_listings_count - quantidade de imóveis do mesmo anfitrião\n",
        "* availability_365 - número de dias de disponibilidade dentro de 365 dias\n",
        "\n",
        "\n",
        "Antes de iniciar qualquer análise, vamos verificar a cara do nosso dataset, analisando as 5 primeiras entradas."
      ]
    },
    {
      "cell_type": "code",
      "metadata": {
        "colab": {
          "base_uri": "https://localhost:8080/",
          "height": 479
        },
        "id": "5DRexLA70la5",
        "outputId": "23dff741-3a9c-4b4a-a49e-9d7b744ad818"
      },
      "source": [
        "# mostrar as 5 primeiras entradas \n",
        "\n",
        "df.head()\n",
        "\n",
        "\n"
      ],
      "execution_count": 3,
      "outputs": [
        {
          "output_type": "execute_result",
          "data": {
            "text/html": [
              "<div>\n",
              "<style scoped>\n",
              "    .dataframe tbody tr th:only-of-type {\n",
              "        vertical-align: middle;\n",
              "    }\n",
              "\n",
              "    .dataframe tbody tr th {\n",
              "        vertical-align: top;\n",
              "    }\n",
              "\n",
              "    .dataframe thead th {\n",
              "        text-align: right;\n",
              "    }\n",
              "</style>\n",
              "<table border=\"1\" class=\"dataframe\">\n",
              "  <thead>\n",
              "    <tr style=\"text-align: right;\">\n",
              "      <th></th>\n",
              "      <th>id</th>\n",
              "      <th>name</th>\n",
              "      <th>host_id</th>\n",
              "      <th>host_name</th>\n",
              "      <th>neighbourhood_group</th>\n",
              "      <th>neighbourhood</th>\n",
              "      <th>latitude</th>\n",
              "      <th>longitude</th>\n",
              "      <th>room_type</th>\n",
              "      <th>price</th>\n",
              "      <th>minimum_nights</th>\n",
              "      <th>number_of_reviews</th>\n",
              "      <th>last_review</th>\n",
              "      <th>reviews_per_month</th>\n",
              "      <th>calculated_host_listings_count</th>\n",
              "      <th>availability_365</th>\n",
              "    </tr>\n",
              "  </thead>\n",
              "  <tbody>\n",
              "    <tr>\n",
              "      <th>0</th>\n",
              "      <td>6499</td>\n",
              "      <td>Belém 1 Bedroom Historical Apartment</td>\n",
              "      <td>14455</td>\n",
              "      <td>Bruno</td>\n",
              "      <td>Lisboa</td>\n",
              "      <td>Belm</td>\n",
              "      <td>38.69750</td>\n",
              "      <td>-9.19768</td>\n",
              "      <td>Entire home/apt</td>\n",
              "      <td>40</td>\n",
              "      <td>3</td>\n",
              "      <td>27</td>\n",
              "      <td>2021-01-26</td>\n",
              "      <td>0.32</td>\n",
              "      <td>1</td>\n",
              "      <td>83</td>\n",
              "    </tr>\n",
              "    <tr>\n",
              "      <th>1</th>\n",
              "      <td>25659</td>\n",
              "      <td>Heart of Alfama Lisbon Center - Cœur de l'Alfama</td>\n",
              "      <td>107347</td>\n",
              "      <td>Ellie</td>\n",
              "      <td>Lisboa</td>\n",
              "      <td>Santa Maria Maior</td>\n",
              "      <td>38.71241</td>\n",
              "      <td>-9.12706</td>\n",
              "      <td>Entire home/apt</td>\n",
              "      <td>45</td>\n",
              "      <td>3</td>\n",
              "      <td>114</td>\n",
              "      <td>2019-11-08</td>\n",
              "      <td>1.30</td>\n",
              "      <td>1</td>\n",
              "      <td>305</td>\n",
              "    </tr>\n",
              "    <tr>\n",
              "      <th>2</th>\n",
              "      <td>29248</td>\n",
              "      <td>Apartamento Alfama com vista para o rio!</td>\n",
              "      <td>125768</td>\n",
              "      <td>Bárbara</td>\n",
              "      <td>Lisboa</td>\n",
              "      <td>Santa Maria Maior</td>\n",
              "      <td>38.71082</td>\n",
              "      <td>-9.12719</td>\n",
              "      <td>Entire home/apt</td>\n",
              "      <td>50</td>\n",
              "      <td>3</td>\n",
              "      <td>328</td>\n",
              "      <td>2019-10-29</td>\n",
              "      <td>2.77</td>\n",
              "      <td>1</td>\n",
              "      <td>143</td>\n",
              "    </tr>\n",
              "    <tr>\n",
              "      <th>3</th>\n",
              "      <td>29396</td>\n",
              "      <td>Alfama Hill - Boutique apartment</td>\n",
              "      <td>126415</td>\n",
              "      <td>Mónica</td>\n",
              "      <td>Lisboa</td>\n",
              "      <td>Santa Maria Maior</td>\n",
              "      <td>38.71156</td>\n",
              "      <td>-9.12987</td>\n",
              "      <td>Entire home/apt</td>\n",
              "      <td>53</td>\n",
              "      <td>2</td>\n",
              "      <td>274</td>\n",
              "      <td>2020-11-26</td>\n",
              "      <td>2.74</td>\n",
              "      <td>1</td>\n",
              "      <td>303</td>\n",
              "    </tr>\n",
              "    <tr>\n",
              "      <th>4</th>\n",
              "      <td>29720</td>\n",
              "      <td>TheHOUSE - Your luxury home</td>\n",
              "      <td>128075</td>\n",
              "      <td>Francisco</td>\n",
              "      <td>Lisboa</td>\n",
              "      <td>Estrela</td>\n",
              "      <td>38.71108</td>\n",
              "      <td>-9.15979</td>\n",
              "      <td>Entire home/apt</td>\n",
              "      <td>1114</td>\n",
              "      <td>2</td>\n",
              "      <td>55</td>\n",
              "      <td>2020-03-11</td>\n",
              "      <td>0.84</td>\n",
              "      <td>1</td>\n",
              "      <td>349</td>\n",
              "    </tr>\n",
              "  </tbody>\n",
              "</table>\n",
              "</div>"
            ],
            "text/plain": [
              "      id  ... availability_365\n",
              "0   6499  ...               83\n",
              "1  25659  ...              305\n",
              "2  29248  ...              143\n",
              "3  29396  ...              303\n",
              "4  29720  ...              349\n",
              "\n",
              "[5 rows x 16 columns]"
            ]
          },
          "metadata": {},
          "execution_count": 3
        }
      ]
    },
    {
      "cell_type": "code",
      "metadata": {
        "colab": {
          "base_uri": "https://localhost:8080/",
          "height": 479
        },
        "id": "GtWs1Sgd231L",
        "outputId": "b2533b2d-8f60-4183-e3b0-8c4e79d20447"
      },
      "source": [
        "# mostrar as 5 ultimas \n",
        "\n",
        "df.tail()"
      ],
      "execution_count": 4,
      "outputs": [
        {
          "output_type": "execute_result",
          "data": {
            "text/html": [
              "<div>\n",
              "<style scoped>\n",
              "    .dataframe tbody tr th:only-of-type {\n",
              "        vertical-align: middle;\n",
              "    }\n",
              "\n",
              "    .dataframe tbody tr th {\n",
              "        vertical-align: top;\n",
              "    }\n",
              "\n",
              "    .dataframe thead th {\n",
              "        text-align: right;\n",
              "    }\n",
              "</style>\n",
              "<table border=\"1\" class=\"dataframe\">\n",
              "  <thead>\n",
              "    <tr style=\"text-align: right;\">\n",
              "      <th></th>\n",
              "      <th>id</th>\n",
              "      <th>name</th>\n",
              "      <th>host_id</th>\n",
              "      <th>host_name</th>\n",
              "      <th>neighbourhood_group</th>\n",
              "      <th>neighbourhood</th>\n",
              "      <th>latitude</th>\n",
              "      <th>longitude</th>\n",
              "      <th>room_type</th>\n",
              "      <th>price</th>\n",
              "      <th>minimum_nights</th>\n",
              "      <th>number_of_reviews</th>\n",
              "      <th>last_review</th>\n",
              "      <th>reviews_per_month</th>\n",
              "      <th>calculated_host_listings_count</th>\n",
              "      <th>availability_365</th>\n",
              "    </tr>\n",
              "  </thead>\n",
              "  <tbody>\n",
              "    <tr>\n",
              "      <th>19453</th>\n",
              "      <td>50936315</td>\n",
              "      <td>Remédios River View - Studio</td>\n",
              "      <td>248190255</td>\n",
              "      <td>Lisbon Best Choice</td>\n",
              "      <td>Lisboa</td>\n",
              "      <td>Santa Maria Maior</td>\n",
              "      <td>38.712205</td>\n",
              "      <td>-9.128637</td>\n",
              "      <td>Private room</td>\n",
              "      <td>68</td>\n",
              "      <td>1</td>\n",
              "      <td>0</td>\n",
              "      <td>NaN</td>\n",
              "      <td>NaN</td>\n",
              "      <td>11</td>\n",
              "      <td>308</td>\n",
              "    </tr>\n",
              "    <tr>\n",
              "      <th>19454</th>\n",
              "      <td>50936510</td>\n",
              "      <td>Remédios Standard - Two Bedroom</td>\n",
              "      <td>248190255</td>\n",
              "      <td>Lisbon Best Choice</td>\n",
              "      <td>Lisboa</td>\n",
              "      <td>Santa Maria Maior</td>\n",
              "      <td>38.710649</td>\n",
              "      <td>-9.128901</td>\n",
              "      <td>Entire home/apt</td>\n",
              "      <td>68</td>\n",
              "      <td>1</td>\n",
              "      <td>0</td>\n",
              "      <td>NaN</td>\n",
              "      <td>NaN</td>\n",
              "      <td>11</td>\n",
              "      <td>339</td>\n",
              "    </tr>\n",
              "    <tr>\n",
              "      <th>19455</th>\n",
              "      <td>50936634</td>\n",
              "      <td>Remédios Dorm - Two Bedrooms</td>\n",
              "      <td>248190255</td>\n",
              "      <td>Lisbon Best Choice</td>\n",
              "      <td>Lisboa</td>\n",
              "      <td>Santa Maria Maior</td>\n",
              "      <td>38.711136</td>\n",
              "      <td>-9.128554</td>\n",
              "      <td>Entire home/apt</td>\n",
              "      <td>84</td>\n",
              "      <td>1</td>\n",
              "      <td>0</td>\n",
              "      <td>NaN</td>\n",
              "      <td>NaN</td>\n",
              "      <td>11</td>\n",
              "      <td>326</td>\n",
              "    </tr>\n",
              "    <tr>\n",
              "      <th>19456</th>\n",
              "      <td>50938402</td>\n",
              "      <td>apartment in center, ocean-view terrace &amp; barb...</td>\n",
              "      <td>2774672</td>\n",
              "      <td>Herwig</td>\n",
              "      <td>Mafra</td>\n",
              "      <td>Ericeira</td>\n",
              "      <td>38.969180</td>\n",
              "      <td>-9.417510</td>\n",
              "      <td>Entire home/apt</td>\n",
              "      <td>124</td>\n",
              "      <td>5</td>\n",
              "      <td>0</td>\n",
              "      <td>NaN</td>\n",
              "      <td>NaN</td>\n",
              "      <td>8</td>\n",
              "      <td>364</td>\n",
              "    </tr>\n",
              "    <tr>\n",
              "      <th>19457</th>\n",
              "      <td>50939214</td>\n",
              "      <td>Terrace Saldanha Apartment</td>\n",
              "      <td>140552386</td>\n",
              "      <td>Nana</td>\n",
              "      <td>Lisboa</td>\n",
              "      <td>Arroios</td>\n",
              "      <td>38.734432</td>\n",
              "      <td>-9.139777</td>\n",
              "      <td>Entire home/apt</td>\n",
              "      <td>55</td>\n",
              "      <td>3</td>\n",
              "      <td>0</td>\n",
              "      <td>NaN</td>\n",
              "      <td>NaN</td>\n",
              "      <td>3</td>\n",
              "      <td>341</td>\n",
              "    </tr>\n",
              "  </tbody>\n",
              "</table>\n",
              "</div>"
            ],
            "text/plain": [
              "             id  ... availability_365\n",
              "19453  50936315  ...              308\n",
              "19454  50936510  ...              339\n",
              "19455  50936634  ...              326\n",
              "19456  50938402  ...              364\n",
              "19457  50939214  ...              341\n",
              "\n",
              "[5 rows x 16 columns]"
            ]
          },
          "metadata": {},
          "execution_count": 4
        }
      ]
    },
    {
      "cell_type": "code",
      "metadata": {
        "colab": {
          "base_uri": "https://localhost:8080/"
        },
        "id": "nFf2T8xz6R1Y",
        "outputId": "d4e49675-e8cc-4f3c-f413-e61428c97add"
      },
      "source": [
        "df['neighbourhood_group'].unique()"
      ],
      "execution_count": 5,
      "outputs": [
        {
          "output_type": "execute_result",
          "data": {
            "text/plain": [
              "array(['Lisboa', 'Cascais', 'Sintra', 'Alenquer', 'Vila Franca De Xira',\n",
              "       'Mafra', 'Torres Vedras', 'Lourinh', 'Oeiras', 'Cadaval',\n",
              "       'Amadora', 'Arruda Dos Vinhos', 'Loures', 'Odivelas', 'Azambuja',\n",
              "       'Sobral De Monte Agrao'], dtype=object)"
            ]
          },
          "metadata": {},
          "execution_count": 5
        }
      ]
    },
    {
      "cell_type": "markdown",
      "metadata": {
        "id": "HLwbFOAt4FG4"
      },
      "source": [
        "### **Q1. Quantos atributos (variáveis) e quantas entradas o nosso conjunto de dados possui? Quais os tipos das variáveis?**\n"
      ]
    },
    {
      "cell_type": "code",
      "metadata": {
        "id": "DLGqH7xS4VP-",
        "colab": {
          "base_uri": "https://localhost:8080/"
        },
        "outputId": "ff831656-fb0b-434d-d979-df782bedaf8e"
      },
      "source": [
        "# identificar o volume de dados do DataFrame\n",
        "#Vamos prosseguir e identificar a quantidade de entradas que nosso conjunto de dados possui e ver os tipos de cada coluna.\n",
        "\n",
        "#df.shape\n",
        "print(\"Entradas:\\t {}\".format(df.shape[0]))\n",
        "print(\"Variáveis(colunas):\\t {}\\n\".format(df.shape[1]))\n",
        "\n",
        "\n",
        "# verificando os tipos das variáveis\n",
        "\n",
        "df.dtypes\n",
        "\n",
        "\n"
      ],
      "execution_count": 11,
      "outputs": [
        {
          "output_type": "stream",
          "name": "stdout",
          "text": [
            "Entradas:\t 19458\n",
            "Variáveis(colunas):\t 16\n",
            "\n"
          ]
        },
        {
          "output_type": "execute_result",
          "data": {
            "text/plain": [
              "id                                  int64\n",
              "name                               object\n",
              "host_id                             int64\n",
              "host_name                          object\n",
              "neighbourhood_group                object\n",
              "neighbourhood                      object\n",
              "latitude                          float64\n",
              "longitude                         float64\n",
              "room_type                          object\n",
              "price                               int64\n",
              "minimum_nights                      int64\n",
              "number_of_reviews                   int64\n",
              "last_review                        object\n",
              "reviews_per_month                 float64\n",
              "calculated_host_listings_count      int64\n",
              "availability_365                    int64\n",
              "dtype: object"
            ]
          },
          "metadata": {},
          "execution_count": 11
        }
      ]
    },
    {
      "cell_type": "code",
      "metadata": {
        "colab": {
          "base_uri": "https://localhost:8080/"
        },
        "id": "0CNwNzpqjD3a",
        "outputId": "f19e556d-b450-45ec-f6b9-a4bc1905fefa"
      },
      "source": [
        "# de forma alternativa\n",
        "\n",
        "df.info(verbose=True)"
      ],
      "execution_count": 13,
      "outputs": [
        {
          "output_type": "stream",
          "name": "stdout",
          "text": [
            "<class 'pandas.core.frame.DataFrame'>\n",
            "RangeIndex: 19458 entries, 0 to 19457\n",
            "Data columns (total 16 columns):\n",
            " #   Column                          Non-Null Count  Dtype  \n",
            "---  ------                          --------------  -----  \n",
            " 0   id                              19458 non-null  int64  \n",
            " 1   name                            19448 non-null  object \n",
            " 2   host_id                         19458 non-null  int64  \n",
            " 3   host_name                       19437 non-null  object \n",
            " 4   neighbourhood_group             19458 non-null  object \n",
            " 5   neighbourhood                   19458 non-null  object \n",
            " 6   latitude                        19458 non-null  float64\n",
            " 7   longitude                       19458 non-null  float64\n",
            " 8   room_type                       19458 non-null  object \n",
            " 9   price                           19458 non-null  int64  \n",
            " 10  minimum_nights                  19458 non-null  int64  \n",
            " 11  number_of_reviews               19458 non-null  int64  \n",
            " 12  last_review                     15885 non-null  object \n",
            " 13  reviews_per_month               15885 non-null  float64\n",
            " 14  calculated_host_listings_count  19458 non-null  int64  \n",
            " 15  availability_365                19458 non-null  int64  \n",
            "dtypes: float64(3), int64(7), object(6)\n",
            "memory usage: 2.4+ MB\n"
          ]
        }
      ]
    },
    {
      "cell_type": "markdown",
      "metadata": {
        "id": "4NvBumPKiNAu"
      },
      "source": [
        "### **Q2. Qual a porcentagem de valores ausentes no *dataset*?**\n",
        "\n",
        "A qualidade de um dataset está diretamente relacionada à quantidade de valores ausentes. É importante entender logo no início se esses valores nulos são significativos comparados ao total de entradas.\n",
        "\n",
        "\n",
        "*   As variáveis reviews_per_month e last_review possuem valores nulos em quase 20% das linhas.\n",
        "*   As variáveis name e host_name têm aproximadamente 0,1% dos valores nulos."
      ]
    },
    {
      "cell_type": "code",
      "metadata": {
        "colab": {
          "base_uri": "https://localhost:8080/"
        },
        "id": "LqN_S04cixkO",
        "outputId": "13c5d151-c517-417d-9f8c-99ffdbbdb600"
      },
      "source": [
        "# encontrando valores ausentes\n",
        "df.isnull().sum()"
      ],
      "execution_count": 14,
      "outputs": [
        {
          "output_type": "execute_result",
          "data": {
            "text/plain": [
              "id                                   0\n",
              "name                                10\n",
              "host_id                              0\n",
              "host_name                           21\n",
              "neighbourhood_group                  0\n",
              "neighbourhood                        0\n",
              "latitude                             0\n",
              "longitude                            0\n",
              "room_type                            0\n",
              "price                                0\n",
              "minimum_nights                       0\n",
              "number_of_reviews                    0\n",
              "last_review                       3573\n",
              "reviews_per_month                 3573\n",
              "calculated_host_listings_count       0\n",
              "availability_365                     0\n",
              "dtype: int64"
            ]
          },
          "metadata": {},
          "execution_count": 14
        }
      ]
    },
    {
      "cell_type": "code",
      "metadata": {
        "colab": {
          "base_uri": "https://localhost:8080/"
        },
        "id": "nrgmottukNLq",
        "outputId": "c10cd1a3-218c-4dca-9ca4-8c43070a929c"
      },
      "source": [
        "# verificando em termos percentuais e ordenando em ordem decrescente as variáveis por seus valores ausentes\n",
        "(df.isnull().sum() / df.shape[0]).sort_values(ascending=False)\n"
      ],
      "execution_count": 15,
      "outputs": [
        {
          "output_type": "execute_result",
          "data": {
            "text/plain": [
              "reviews_per_month                 0.183626\n",
              "last_review                       0.183626\n",
              "host_name                         0.001079\n",
              "name                              0.000514\n",
              "availability_365                  0.000000\n",
              "calculated_host_listings_count    0.000000\n",
              "number_of_reviews                 0.000000\n",
              "minimum_nights                    0.000000\n",
              "price                             0.000000\n",
              "room_type                         0.000000\n",
              "longitude                         0.000000\n",
              "latitude                          0.000000\n",
              "neighbourhood                     0.000000\n",
              "neighbourhood_group               0.000000\n",
              "host_id                           0.000000\n",
              "id                                0.000000\n",
              "dtype: float64"
            ]
          },
          "metadata": {},
          "execution_count": 15
        }
      ]
    },
    {
      "cell_type": "markdown",
      "metadata": {
        "id": "DVX1bZbBm7jg"
      },
      "source": [
        "Com base no resultado anterior, faremos as seguintes considerações:\n",
        "\n",
        "* 'nome' A menos que você queira fazer uma análise baseada em texto dos nomes dos aluguéis, esta coluna não acrescentará muito à sua análise.\n",
        "Decisão: Apagar.\n",
        "\n",
        "* 'host_name' Aqui, novamente, esta coluna contém informações pessoais e não acrescenta muito à nossa análise. Mesmo se por algum motivo precisássemos usá-lo, seu uso seria limitado, pois na maioria dos casos apenas o primeiro nome é fornecido.\n",
        "Decisão: Apagar.\n",
        "\n",
        "* 'last_review' um valor ausente provavelmente significa que não houve nenhum comentário para esta locação. Não iremos usar isso para nenhuma análise ou visualização.\n",
        "Decisão: Apagar\n",
        "\n",
        "* 'reviews_per_month' Podemos fazer algumas análises com isso. Este é o tipo de situação em que a própria intuição complementa a análise. Nesta coluna, os valores ausentes provavelmente não significam que os pontos de dados não foram registrados, mas que eles não existem, um contraste que aprendi a apreciar ao lidar com valores ausentes.\n",
        "Decisão: SUBSTITUIR os valores ausentes com 0's\n",
        "\n"
      ]
    },
    {
      "cell_type": "code",
      "metadata": {
        "colab": {
          "base_uri": "https://localhost:8080/",
          "height": 309
        },
        "id": "EuaevQu8o1xA",
        "outputId": "90e283ea-0ede-49b1-bc54-d8f2673f5fcd"
      },
      "source": [
        "# apagando as colunas:\n",
        "df.drop(['name','host_name','last_review'],axis = 1,inplace=True)\n",
        "\n",
        "# Agora nos temos 13 variáveis \n",
        "df.head()"
      ],
      "execution_count": 16,
      "outputs": [
        {
          "output_type": "execute_result",
          "data": {
            "text/html": [
              "<div>\n",
              "<style scoped>\n",
              "    .dataframe tbody tr th:only-of-type {\n",
              "        vertical-align: middle;\n",
              "    }\n",
              "\n",
              "    .dataframe tbody tr th {\n",
              "        vertical-align: top;\n",
              "    }\n",
              "\n",
              "    .dataframe thead th {\n",
              "        text-align: right;\n",
              "    }\n",
              "</style>\n",
              "<table border=\"1\" class=\"dataframe\">\n",
              "  <thead>\n",
              "    <tr style=\"text-align: right;\">\n",
              "      <th></th>\n",
              "      <th>id</th>\n",
              "      <th>host_id</th>\n",
              "      <th>neighbourhood_group</th>\n",
              "      <th>neighbourhood</th>\n",
              "      <th>latitude</th>\n",
              "      <th>longitude</th>\n",
              "      <th>room_type</th>\n",
              "      <th>price</th>\n",
              "      <th>minimum_nights</th>\n",
              "      <th>number_of_reviews</th>\n",
              "      <th>reviews_per_month</th>\n",
              "      <th>calculated_host_listings_count</th>\n",
              "      <th>availability_365</th>\n",
              "    </tr>\n",
              "  </thead>\n",
              "  <tbody>\n",
              "    <tr>\n",
              "      <th>0</th>\n",
              "      <td>6499</td>\n",
              "      <td>14455</td>\n",
              "      <td>Lisboa</td>\n",
              "      <td>Belm</td>\n",
              "      <td>38.69750</td>\n",
              "      <td>-9.19768</td>\n",
              "      <td>Entire home/apt</td>\n",
              "      <td>40</td>\n",
              "      <td>3</td>\n",
              "      <td>27</td>\n",
              "      <td>0.32</td>\n",
              "      <td>1</td>\n",
              "      <td>83</td>\n",
              "    </tr>\n",
              "    <tr>\n",
              "      <th>1</th>\n",
              "      <td>25659</td>\n",
              "      <td>107347</td>\n",
              "      <td>Lisboa</td>\n",
              "      <td>Santa Maria Maior</td>\n",
              "      <td>38.71241</td>\n",
              "      <td>-9.12706</td>\n",
              "      <td>Entire home/apt</td>\n",
              "      <td>45</td>\n",
              "      <td>3</td>\n",
              "      <td>114</td>\n",
              "      <td>1.30</td>\n",
              "      <td>1</td>\n",
              "      <td>305</td>\n",
              "    </tr>\n",
              "    <tr>\n",
              "      <th>2</th>\n",
              "      <td>29248</td>\n",
              "      <td>125768</td>\n",
              "      <td>Lisboa</td>\n",
              "      <td>Santa Maria Maior</td>\n",
              "      <td>38.71082</td>\n",
              "      <td>-9.12719</td>\n",
              "      <td>Entire home/apt</td>\n",
              "      <td>50</td>\n",
              "      <td>3</td>\n",
              "      <td>328</td>\n",
              "      <td>2.77</td>\n",
              "      <td>1</td>\n",
              "      <td>143</td>\n",
              "    </tr>\n",
              "    <tr>\n",
              "      <th>3</th>\n",
              "      <td>29396</td>\n",
              "      <td>126415</td>\n",
              "      <td>Lisboa</td>\n",
              "      <td>Santa Maria Maior</td>\n",
              "      <td>38.71156</td>\n",
              "      <td>-9.12987</td>\n",
              "      <td>Entire home/apt</td>\n",
              "      <td>53</td>\n",
              "      <td>2</td>\n",
              "      <td>274</td>\n",
              "      <td>2.74</td>\n",
              "      <td>1</td>\n",
              "      <td>303</td>\n",
              "    </tr>\n",
              "    <tr>\n",
              "      <th>4</th>\n",
              "      <td>29720</td>\n",
              "      <td>128075</td>\n",
              "      <td>Lisboa</td>\n",
              "      <td>Estrela</td>\n",
              "      <td>38.71108</td>\n",
              "      <td>-9.15979</td>\n",
              "      <td>Entire home/apt</td>\n",
              "      <td>1114</td>\n",
              "      <td>2</td>\n",
              "      <td>55</td>\n",
              "      <td>0.84</td>\n",
              "      <td>1</td>\n",
              "      <td>349</td>\n",
              "    </tr>\n",
              "  </tbody>\n",
              "</table>\n",
              "</div>"
            ],
            "text/plain": [
              "      id  host_id  ... calculated_host_listings_count availability_365\n",
              "0   6499    14455  ...                              1               83\n",
              "1  25659   107347  ...                              1              305\n",
              "2  29248   125768  ...                              1              143\n",
              "3  29396   126415  ...                              1              303\n",
              "4  29720   128075  ...                              1              349\n",
              "\n",
              "[5 rows x 13 columns]"
            ]
          },
          "metadata": {},
          "execution_count": 16
        }
      ]
    },
    {
      "cell_type": "code",
      "metadata": {
        "id": "sw6Ot_hdpWUI"
      },
      "source": [
        "# iremos substituir os valores ausentes de \"reviews_per_month\" por zeros\n",
        "df['reviews_per_month'].fillna(0,inplace=True)"
      ],
      "execution_count": 17,
      "outputs": []
    },
    {
      "cell_type": "code",
      "metadata": {
        "colab": {
          "base_uri": "https://localhost:8080/"
        },
        "id": "ByQ6wTR4pl5T",
        "outputId": "0611f0e7-3e82-41fb-acd7-c8390fb3db55"
      },
      "source": [
        "# checando os dados\n",
        "df.isnull().sum()"
      ],
      "execution_count": 19,
      "outputs": [
        {
          "output_type": "execute_result",
          "data": {
            "text/plain": [
              "id                                0\n",
              "host_id                           0\n",
              "neighbourhood_group               0\n",
              "neighbourhood                     0\n",
              "latitude                          0\n",
              "longitude                         0\n",
              "room_type                         0\n",
              "price                             0\n",
              "minimum_nights                    0\n",
              "number_of_reviews                 0\n",
              "reviews_per_month                 0\n",
              "calculated_host_listings_count    0\n",
              "availability_365                  0\n",
              "dtype: int64"
            ]
          },
          "metadata": {},
          "execution_count": 19
        }
      ]
    },
    {
      "cell_type": "markdown",
      "metadata": {
        "id": "6R7mYaf9lCl_"
      },
      "source": [
        "### **Q3. Qual o tipo de distribuição das variáveis?** \n",
        "\n",
        "Para identificar a distribuição das variáveis, iremos plotar o histograma."
      ]
    },
    {
      "cell_type": "code",
      "metadata": {
        "colab": {
          "base_uri": "https://localhost:8080/",
          "height": 607
        },
        "id": "auh5MAoqlIjm",
        "outputId": "bc3a23b8-284e-47be-fc40-691be7788a0a"
      },
      "source": [
        "# plotar o histograma das variáveis numéricas\n",
        "df.hist(bins=15, figsize=(15,10));"
      ],
      "execution_count": 20,
      "outputs": [
        {
          "output_type": "display_data",
          "data": {
            "image/png": "[encoded data removed]",
            "text/plain": [
              "<Figure size 1080x720 with 12 Axes>"
            ]
          },
          "metadata": {
            "needs_background": "light"
          }
        }
      ]
    },
    {
      "cell_type": "markdown",
      "metadata": {
        "id": "75I_XjVxqdIv"
      },
      "source": [
        "### **Q4. Há *outliers* presentes?**"
      ]
    },
    {
      "cell_type": "markdown",
      "metadata": {
        "id": "aQLDQl6OqgbP"
      },
      "source": [
        "Pela distribuição do histograma, é possível verificar indícios da presença de outliers. Olhe por exemplo as variáveis price, minimum_nights e calculated_host_listings_count.\n",
        "\n",
        "Os valores não seguem uma distruição, e distorcem toda a representação gráfica. Para confirmar, há duas maneiras rápidas que auxiliam a detecção de outliers. São elas:\n",
        "\n",
        "* Resumo estatístico por meio do método describe()\n",
        "* Plotar boxplots para a variável."
      ]
    },
    {
      "cell_type": "code",
      "metadata": {
        "colab": {
          "base_uri": "https://localhost:8080/",
          "height": 297
        },
        "id": "6_k3cwKbrDzF",
        "outputId": "f83b9f1b-4207-4113-e44c-ea4c1aa212b2"
      },
      "source": [
        "# ver o resumo estatístico das variáveis numéricas\n",
        "df[['price', 'minimum_nights', 'number_of_reviews', 'reviews_per_month',\n",
        "    'calculated_host_listings_count', 'availability_365']].describe()"
      ],
      "execution_count": 21,
      "outputs": [
        {
          "output_type": "execute_result",
          "data": {
            "text/html": [
              "<div>\n",
              "<style scoped>\n",
              "    .dataframe tbody tr th:only-of-type {\n",
              "        vertical-align: middle;\n",
              "    }\n",
              "\n",
              "    .dataframe tbody tr th {\n",
              "        vertical-align: top;\n",
              "    }\n",
              "\n",
              "    .dataframe thead th {\n",
              "        text-align: right;\n",
              "    }\n",
              "</style>\n",
              "<table border=\"1\" class=\"dataframe\">\n",
              "  <thead>\n",
              "    <tr style=\"text-align: right;\">\n",
              "      <th></th>\n",
              "      <th>price</th>\n",
              "      <th>minimum_nights</th>\n",
              "      <th>number_of_reviews</th>\n",
              "      <th>reviews_per_month</th>\n",
              "      <th>calculated_host_listings_count</th>\n",
              "      <th>availability_365</th>\n",
              "    </tr>\n",
              "  </thead>\n",
              "  <tbody>\n",
              "    <tr>\n",
              "      <th>count</th>\n",
              "      <td>19458.000000</td>\n",
              "      <td>19458.000000</td>\n",
              "      <td>19458.000000</td>\n",
              "      <td>19458.000000</td>\n",
              "      <td>19458.000000</td>\n",
              "      <td>19458.000000</td>\n",
              "    </tr>\n",
              "    <tr>\n",
              "      <th>mean</th>\n",
              "      <td>108.296022</td>\n",
              "      <td>3.850396</td>\n",
              "      <td>42.815860</td>\n",
              "      <td>0.962918</td>\n",
              "      <td>14.212560</td>\n",
              "      <td>218.978878</td>\n",
              "    </tr>\n",
              "    <tr>\n",
              "      <th>std</th>\n",
              "      <td>281.433465</td>\n",
              "      <td>16.737444</td>\n",
              "      <td>69.092684</td>\n",
              "      <td>1.264042</td>\n",
              "      <td>36.725234</td>\n",
              "      <td>125.645147</td>\n",
              "    </tr>\n",
              "    <tr>\n",
              "      <th>min</th>\n",
              "      <td>0.000000</td>\n",
              "      <td>1.000000</td>\n",
              "      <td>0.000000</td>\n",
              "      <td>0.000000</td>\n",
              "      <td>1.000000</td>\n",
              "      <td>0.000000</td>\n",
              "    </tr>\n",
              "    <tr>\n",
              "      <th>25%</th>\n",
              "      <td>50.000000</td>\n",
              "      <td>1.000000</td>\n",
              "      <td>1.000000</td>\n",
              "      <td>0.080000</td>\n",
              "      <td>1.000000</td>\n",
              "      <td>113.000000</td>\n",
              "    </tr>\n",
              "    <tr>\n",
              "      <th>50%</th>\n",
              "      <td>72.000000</td>\n",
              "      <td>2.000000</td>\n",
              "      <td>12.000000</td>\n",
              "      <td>0.490000</td>\n",
              "      <td>4.000000</td>\n",
              "      <td>251.000000</td>\n",
              "    </tr>\n",
              "    <tr>\n",
              "      <th>75%</th>\n",
              "      <td>110.000000</td>\n",
              "      <td>3.000000</td>\n",
              "      <td>55.000000</td>\n",
              "      <td>1.440000</td>\n",
              "      <td>11.000000</td>\n",
              "      <td>335.000000</td>\n",
              "    </tr>\n",
              "    <tr>\n",
              "      <th>max</th>\n",
              "      <td>20628.000000</td>\n",
              "      <td>1000.000000</td>\n",
              "      <td>1294.000000</td>\n",
              "      <td>40.450000</td>\n",
              "      <td>275.000000</td>\n",
              "      <td>365.000000</td>\n",
              "    </tr>\n",
              "  </tbody>\n",
              "</table>\n",
              "</div>"
            ],
            "text/plain": [
              "              price  ...  availability_365\n",
              "count  19458.000000  ...      19458.000000\n",
              "mean     108.296022  ...        218.978878\n",
              "std      281.433465  ...        125.645147\n",
              "min        0.000000  ...          0.000000\n",
              "25%       50.000000  ...        113.000000\n",
              "50%       72.000000  ...        251.000000\n",
              "75%      110.000000  ...        335.000000\n",
              "max    20628.000000  ...        365.000000\n",
              "\n",
              "[8 rows x 6 columns]"
            ]
          },
          "metadata": {},
          "execution_count": 21
        }
      ]
    },
    {
      "cell_type": "markdown",
      "metadata": {
        "id": "1SgLifXZrl0R"
      },
      "source": [
        "Olhando o resumo estatístico acima, podemos confirmar algumas hipóteses como:\n",
        "\n",
        "* A variável price possui 75% do valor abaixo de 110, porém seu valor máximo é 20628.\n",
        "* A quantidade máxima de noites (minimum_nights) está acima de 365 dias no ano."
      ]
    },
    {
      "cell_type": "code",
      "metadata": {
        "colab": {
          "base_uri": "https://localhost:8080/",
          "height": 262
        },
        "id": "51OxvcQGsCak",
        "outputId": "b7403d03-f2a5-4ac6-8f1f-097e39cc0e8d"
      },
      "source": [
        "# boxplot para minimum_nights\n",
        "\n",
        "# minimum_nights\n",
        "df.minimum_nights.plot(kind='box', vert=False, figsize=(15, 3))\n",
        "plt.show()\n",
        "\n",
        "# ver quantidade de valores acima de 30 dias para minimum_nights\n",
        "print(\"minimum_nights: valores acima de 30:\")\n",
        "print(\"{} entradas\".format(len(df[df.minimum_nights > 30])))\n",
        "print(\"{:.4f}%\".format((len(df[df.minimum_nights > 30]) / df.shape[0])*100))"
      ],
      "execution_count": 22,
      "outputs": [
        {
          "output_type": "display_data",
          "data": {
            "image/png": "[encoded data removed]",
            "text/plain": [
              "<Figure size 1080x216 with 1 Axes>"
            ]
          },
          "metadata": {
            "needs_background": "light"
          }
        },
        {
          "output_type": "stream",
          "name": "stdout",
          "text": [
            "minimum_nights: valores acima de 30:\n",
            "95 entradas\n",
            "0.4882%\n"
          ]
        }
      ]
    },
    {
      "cell_type": "markdown",
      "metadata": {
        "id": "Alf_X64Wsil6"
      },
      "source": [
        "**Boxplot para Price**"
      ]
    },
    {
      "cell_type": "code",
      "metadata": {
        "colab": {
          "base_uri": "https://localhost:8080/",
          "height": 279
        },
        "id": "r7YQnnPmsp2K",
        "outputId": "8de92fd2-d23f-45b2-966c-7b5911b16acb"
      },
      "source": [
        "# price\n",
        "df.price.plot(kind='box', vert=False, figsize=(15, 3),)\n",
        "plt.show()\n",
        "\n",
        "# ver quantidade de valores acima de 1500 para price\n",
        "print(\"\\nprice: valores acima de 1500\")\n",
        "print(\"{} entradas\".format(len(df[df.price > 1500])))\n",
        "print(\"{:.4f}%\".format((len(df[df.price > 1500]) / df.shape[0])*100))\n",
        "\n",
        "# df.price.plot(kind='box', vert=False, xlim=(0,1300), figsize=(15,3));"
      ],
      "execution_count": 23,
      "outputs": [
        {
          "output_type": "display_data",
          "data": {
            "image/png": "[encoded data removed]",
            "text/plain": [
              "<Figure size 1080x216 with 1 Axes>"
            ]
          },
          "metadata": {
            "needs_background": "light"
          }
        },
        {
          "output_type": "stream",
          "name": "stdout",
          "text": [
            "\n",
            "price: valores acima de 1500\n",
            "34 entradas\n",
            "0.1747%\n"
          ]
        }
      ]
    },
    {
      "cell_type": "markdown",
      "metadata": {
        "id": "qT2HvFogtFZR"
      },
      "source": [
        "#### Histogramas sem *outliers*\n",
        "\n",
        "Já que identificamos *outliers* nas variáveis `price` e `minimum_nights`, vamos agora limpar o *DataFrame* delas e plotar novamente o histograma."
      ]
    },
    {
      "cell_type": "code",
      "metadata": {
        "colab": {
          "base_uri": "https://localhost:8080/",
          "height": 607
        },
        "id": "1uT-yFrAtKd-",
        "outputId": "9b93c38a-f55e-4776-ff4b-f334b85fafcd"
      },
      "source": [
        "# remover os *outliers* em um novo DataFrame\n",
        "df_clean = df.copy()\n",
        "df_clean.drop(df_clean[df_clean.price > 1500].index, axis=0, inplace=True)\n",
        "df_clean.drop(df_clean[df_clean.minimum_nights > 30].index, axis=0, inplace=True)\n",
        "\n",
        "# remover `neighbourhood_group`, pois está vazio\n",
        "#df_clean.drop('neighbourhood_group', axis=1, inplace=True)\n",
        "\n",
        "# plotar o histograma para as variáveis numéricas\n",
        "df_clean.hist(bins=15, figsize=(15,10));"
      ],
      "execution_count": 24,
      "outputs": [
        {
          "output_type": "display_data",
          "data": {
            "image/png": "[encoded data removed]",
            "text/plain": [
              "<Figure size 1080x720 with 12 Axes>"
            ]
          },
          "metadata": {
            "needs_background": "light"
          }
        }
      ]
    },
    {
      "cell_type": "markdown",
      "metadata": {
        "id": "7cYnGSngtxy9"
      },
      "source": [
        "### **Q5. Qual a correlação existente entre as variáveis**\n",
        "\n",
        "Correlação significa que existe uma relação entre duas coisas. No nosso contexto, estamos buscando relação ou semelhança entre duas variáveis.\n",
        "\n",
        "Essa relação pode ser medida, e é função do coeficiente de correlação estabelecer qual a intensidade dela. Para identificar as correlações existentes entre as variáveis de interesse, iremos:\n",
        "\n",
        "* Criar uma matriz de correlação\n",
        "* Gerar um *heatmap* a partir dessa matriz, usando a biblioteca `seaborn`"
      ]
    },
    {
      "cell_type": "code",
      "metadata": {
        "colab": {
          "base_uri": "https://localhost:8080/",
          "height": 255
        },
        "id": "uH8ZcbpJudhy",
        "outputId": "f1ca2f97-da25-473e-efe7-bba5e5d0c06e"
      },
      "source": [
        "# criar uma matriz de correlação\n",
        "corr = df_clean[['price', 'minimum_nights', 'number_of_reviews', 'reviews_per_month',\n",
        "    'calculated_host_listings_count', 'availability_365']].corr()\n",
        "\n",
        "display(corr)"
      ],
      "execution_count": 25,
      "outputs": [
        {
          "output_type": "display_data",
          "data": {
            "text/html": [
              "<div>\n",
              "<style scoped>\n",
              "    .dataframe tbody tr th:only-of-type {\n",
              "        vertical-align: middle;\n",
              "    }\n",
              "\n",
              "    .dataframe tbody tr th {\n",
              "        vertical-align: top;\n",
              "    }\n",
              "\n",
              "    .dataframe thead th {\n",
              "        text-align: right;\n",
              "    }\n",
              "</style>\n",
              "<table border=\"1\" class=\"dataframe\">\n",
              "  <thead>\n",
              "    <tr style=\"text-align: right;\">\n",
              "      <th></th>\n",
              "      <th>price</th>\n",
              "      <th>minimum_nights</th>\n",
              "      <th>number_of_reviews</th>\n",
              "      <th>reviews_per_month</th>\n",
              "      <th>calculated_host_listings_count</th>\n",
              "      <th>availability_365</th>\n",
              "    </tr>\n",
              "  </thead>\n",
              "  <tbody>\n",
              "    <tr>\n",
              "      <th>price</th>\n",
              "      <td>1.000000</td>\n",
              "      <td>-0.019791</td>\n",
              "      <td>-0.121563</td>\n",
              "      <td>-0.136587</td>\n",
              "      <td>0.005365</td>\n",
              "      <td>0.051068</td>\n",
              "    </tr>\n",
              "    <tr>\n",
              "      <th>minimum_nights</th>\n",
              "      <td>-0.019791</td>\n",
              "      <td>1.000000</td>\n",
              "      <td>-0.066848</td>\n",
              "      <td>-0.097634</td>\n",
              "      <td>-0.045867</td>\n",
              "      <td>-0.068146</td>\n",
              "    </tr>\n",
              "    <tr>\n",
              "      <th>number_of_reviews</th>\n",
              "      <td>-0.121563</td>\n",
              "      <td>-0.066848</td>\n",
              "      <td>1.000000</td>\n",
              "      <td>0.765722</td>\n",
              "      <td>-0.085714</td>\n",
              "      <td>-0.008787</td>\n",
              "    </tr>\n",
              "    <tr>\n",
              "      <th>reviews_per_month</th>\n",
              "      <td>-0.136587</td>\n",
              "      <td>-0.097634</td>\n",
              "      <td>0.765722</td>\n",
              "      <td>1.000000</td>\n",
              "      <td>-0.050198</td>\n",
              "      <td>-0.004571</td>\n",
              "    </tr>\n",
              "    <tr>\n",
              "      <th>calculated_host_listings_count</th>\n",
              "      <td>0.005365</td>\n",
              "      <td>-0.045867</td>\n",
              "      <td>-0.085714</td>\n",
              "      <td>-0.050198</td>\n",
              "      <td>1.000000</td>\n",
              "      <td>0.046116</td>\n",
              "    </tr>\n",
              "    <tr>\n",
              "      <th>availability_365</th>\n",
              "      <td>0.051068</td>\n",
              "      <td>-0.068146</td>\n",
              "      <td>-0.008787</td>\n",
              "      <td>-0.004571</td>\n",
              "      <td>0.046116</td>\n",
              "      <td>1.000000</td>\n",
              "    </tr>\n",
              "  </tbody>\n",
              "</table>\n",
              "</div>"
            ],
            "text/plain": [
              "                                   price  ...  availability_365\n",
              "price                           1.000000  ...          0.051068\n",
              "minimum_nights                 -0.019791  ...         -0.068146\n",
              "number_of_reviews              -0.121563  ...         -0.008787\n",
              "reviews_per_month              -0.136587  ...         -0.004571\n",
              "calculated_host_listings_count  0.005365  ...          0.046116\n",
              "availability_365                0.051068  ...          1.000000\n",
              "\n",
              "[6 rows x 6 columns]"
            ]
          },
          "metadata": {}
        }
      ]
    },
    {
      "cell_type": "code",
      "metadata": {
        "colab": {
          "base_uri": "https://localhost:8080/",
          "height": 411
        },
        "id": "46xL76drutSh",
        "outputId": "0748b269-ccb5-4038-bcd5-1eaa486e9710"
      },
      "source": [
        "# plotando heatmap\n",
        "sns.heatmap(corr, cmap='RdBu', fmt='.2f', square=True, linecolor='white', annot=True);"
      ],
      "execution_count": 26,
      "outputs": [
        {
          "output_type": "display_data",
          "data": {
            "image/png": "[encoded data removed]",
            "text/plain": [
              "<Figure size 432x288 with 2 Axes>"
            ]
          },
          "metadata": {
            "needs_background": "light"
          }
        }
      ]
    },
    {
      "cell_type": "markdown",
      "metadata": {
        "id": "1igiBvVmvIEo"
      },
      "source": [
        "### **Q6. Qual o tipo de imóvel mais alugado no Airbnb?**\n",
        "\n",
        "A coluna da variável `room_type` indica o tipo de locação que está anunciada no Airbnb. Se você já alugou no site, sabe que existem opções de apartamentos/casas inteiras, apenas o aluguel de um quarto ou mesmo dividir o quarto com outras pessoas.\n",
        "\n",
        "Vamos contar a quantidade de ocorrências de cada tipo de aluguel, usando o método `value_counts()`."
      ]
    },
    {
      "cell_type": "code",
      "metadata": {
        "colab": {
          "base_uri": "https://localhost:8080/"
        },
        "id": "HtpVbiFOvWsI",
        "outputId": "c21a559b-f4ed-4d37-df59-06df73762732"
      },
      "source": [
        "# mostrar a quantidade de cada tipo de imóvel disponível\n",
        "df_clean.room_type.value_counts()"
      ],
      "execution_count": 27,
      "outputs": [
        {
          "output_type": "execute_result",
          "data": {
            "text/plain": [
              "Entire home/apt    14387\n",
              "Private room        4231\n",
              "Hotel room           364\n",
              "Shared room          347\n",
              "Name: room_type, dtype: int64"
            ]
          },
          "metadata": {},
          "execution_count": 27
        }
      ]
    },
    {
      "cell_type": "code",
      "metadata": {
        "colab": {
          "base_uri": "https://localhost:8080/"
        },
        "id": "ihKvL257vd13",
        "outputId": "61a74e32-7012-46b1-9355-f5579ef064f3"
      },
      "source": [
        "# mostrar a porcentagem de cada tipo de imóvel disponível\n",
        "df_clean.room_type.value_counts() / df_clean.shape[0]"
      ],
      "execution_count": 28,
      "outputs": [
        {
          "output_type": "execute_result",
          "data": {
            "text/plain": [
              "Entire home/apt    0.744322\n",
              "Private room       0.218894\n",
              "Hotel room         0.018832\n",
              "Shared room        0.017952\n",
              "Name: room_type, dtype: float64"
            ]
          },
          "metadata": {},
          "execution_count": 28
        }
      ]
    },
    {
      "cell_type": "markdown",
      "metadata": {
        "id": "1fkqY8ZOvkVE"
      },
      "source": [
        "### **Q7. Qual a localidade mais cara em Lisboa?**\n",
        "\n",
        "Uma maneira de se verificar uma variável em função da outra é usando `groupby()`. No caso, queremos comparar os bairros (*neighbourhoods*) a partir do preço de locação."
      ]
    },
    {
      "cell_type": "code",
      "metadata": {
        "colab": {
          "base_uri": "https://localhost:8080/"
        },
        "id": "ljRfUr8Hv0EF",
        "outputId": "1de4c03b-5a77-4f1a-bd43-5af26b836f3a"
      },
      "source": [
        "df_clean.groupby(['neighbourhood']).price.mean().sort_values(ascending=False)[:10]"
      ],
      "execution_count": 29,
      "outputs": [
        {
          "output_type": "execute_result",
          "data": {
            "text/plain": [
              "neighbourhood\n",
              "Alguber                                            480.00\n",
              "Ota                                                465.00\n",
              "Freiria                                            320.00\n",
              "Cardosas                                           298.00\n",
              "Vermelha                                           276.50\n",
              "Aveiras de Baixo                                   274.50\n",
              "Bucelas                                            243.70\n",
              "Vale do Paraso                                     230.00\n",
              "Azambuja                                           228.00\n",
              "Enxara do Bispo, Gradil e Vila Franca do Rosrio    206.75\n",
              "Name: price, dtype: float64"
            ]
          },
          "metadata": {},
          "execution_count": 29
        }
      ]
    },
    {
      "cell_type": "markdown",
      "metadata": {
        "id": "JabOFZNEwmWY"
      },
      "source": [
        "Acima, vemos que bairros como Alguber e Ota estão com média de preço superior.\n",
        "\n",
        "Iremos verificar a quantidade de imoves nesses 2 bairros."
      ]
    },
    {
      "cell_type": "code",
      "metadata": {
        "colab": {
          "base_uri": "https://localhost:8080/",
          "height": 151
        },
        "id": "6QbEbKD8wm59",
        "outputId": "c13e7849-e5c7-48ff-d6ca-3adcc875b5f7"
      },
      "source": [
        "# ver quantidade de imóveis em Alguber e Ota\n",
        "print(df_clean[df_clean.neighbourhood == \"Alguber\"].shape)\n",
        "\n",
        "print(df_clean[df_clean.neighbourhood == \"Ota\"].shape)\n",
        "\n",
        "# ver a entrada para Alguber\n",
        "df_clean[df_clean.neighbourhood == \"Alguber\"]"
      ],
      "execution_count": 32,
      "outputs": [
        {
          "output_type": "stream",
          "name": "stdout",
          "text": [
            "(1, 13)\n",
            "(1, 13)\n"
          ]
        },
        {
          "output_type": "execute_result",
          "data": {
            "text/html": [
              "<div>\n",
              "<style scoped>\n",
              "    .dataframe tbody tr th:only-of-type {\n",
              "        vertical-align: middle;\n",
              "    }\n",
              "\n",
              "    .dataframe tbody tr th {\n",
              "        vertical-align: top;\n",
              "    }\n",
              "\n",
              "    .dataframe thead th {\n",
              "        text-align: right;\n",
              "    }\n",
              "</style>\n",
              "<table border=\"1\" class=\"dataframe\">\n",
              "  <thead>\n",
              "    <tr style=\"text-align: right;\">\n",
              "      <th></th>\n",
              "      <th>id</th>\n",
              "      <th>host_id</th>\n",
              "      <th>neighbourhood_group</th>\n",
              "      <th>neighbourhood</th>\n",
              "      <th>latitude</th>\n",
              "      <th>longitude</th>\n",
              "      <th>room_type</th>\n",
              "      <th>price</th>\n",
              "      <th>minimum_nights</th>\n",
              "      <th>number_of_reviews</th>\n",
              "      <th>reviews_per_month</th>\n",
              "      <th>calculated_host_listings_count</th>\n",
              "      <th>availability_365</th>\n",
              "    </tr>\n",
              "  </thead>\n",
              "  <tbody>\n",
              "    <tr>\n",
              "      <th>19304</th>\n",
              "      <td>50695709</td>\n",
              "      <td>409658585</td>\n",
              "      <td>Cadaval</td>\n",
              "      <td>Alguber</td>\n",
              "      <td>39.27375</td>\n",
              "      <td>-9.0207</td>\n",
              "      <td>Entire home/apt</td>\n",
              "      <td>480</td>\n",
              "      <td>1</td>\n",
              "      <td>0</td>\n",
              "      <td>0.0</td>\n",
              "      <td>1</td>\n",
              "      <td>362</td>\n",
              "    </tr>\n",
              "  </tbody>\n",
              "</table>\n",
              "</div>"
            ],
            "text/plain": [
              "             id    host_id  ... calculated_host_listings_count availability_365\n",
              "19304  50695709  409658585  ...                              1              362\n",
              "\n",
              "[1 rows x 13 columns]"
            ]
          },
          "metadata": {},
          "execution_count": 32
        }
      ]
    },
    {
      "cell_type": "markdown",
      "metadata": {
        "id": "luNAjB-cxnv9"
      },
      "source": [
        "Notamos que uma amostra pode ser não-representativa, veja quantas entradas há para o Alguber e Ota"
      ]
    },
    {
      "cell_type": "markdown",
      "metadata": {
        "id": "ImHiE6qHyBH9"
      },
      "source": [
        "Como são fornecidas as Latitudes e Longitudes para os imóveis, é possível plotar cada ponto. Para isso, considera-se x=longitude e y=latitude."
      ]
    },
    {
      "cell_type": "code",
      "metadata": {
        "colab": {
          "base_uri": "https://localhost:8080/",
          "height": 472
        },
        "id": "jktWsU5KyF_z",
        "outputId": "f7ff5cf8-ca39-4be2-fe1a-8fe41e489635"
      },
      "source": [
        "# plotar os imóveis pela latitude-longitude\n",
        "df_clean.plot(kind=\"scatter\", x='longitude', y='latitude', alpha=0.4, c=df_clean['price'], s=8,\n",
        "              cmap=plt.get_cmap('jet'), figsize=(12,8));"
      ],
      "execution_count": 31,
      "outputs": [
        {
          "output_type": "display_data",
          "data": {
            "image/png": "[encoded data removed]",
            "text/plain": [
              "<Figure size 864x576 with 2 Axes>"
            ]
          },
          "metadata": {
            "needs_background": "light"
          }
        }
      ]
    },
    {
      "cell_type": "markdown",
      "metadata": {
        "id": "AKTdBJDWyW7X"
      },
      "source": [
        "# Conclusões\n",
        "\n",
        "Foi feita apenas uma análise superficial na base de dados do Airbnb, porém já se percebeu que existem outliers em algumas das variáveis.\n",
        "\n",
        "Também se notou que em algumas localidades há poucos imóveis disponíveis, o que pode distorcer as informações estatísticas de alguns atributos.\n",
        "\n",
        "Por fim, lembra-se que este dataset é uma versão resumida, ideal apenas para uma abordagem inicial. Recomenda-se que seja usado, em uma próxima análise exploratória, o conjunto de dados completos."
      ]
    }
  ]
}